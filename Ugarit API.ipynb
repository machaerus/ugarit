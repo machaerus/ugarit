{
 "cells": [
  {
   "cell_type": "code",
   "execution_count": 1,
   "metadata": {},
   "outputs": [],
   "source": [
    "from scholar import scholar\n",
    "from habanero import Crossref, cn\n",
    "from scihub.scihub.scihub import SciHub\n",
    "import requests\n",
    "import json\n",
    "import re"
   ]
  },
  {
   "cell_type": "code",
   "execution_count": 3,
   "metadata": {},
   "outputs": [],
   "source": [
    "RES_LIMIT = 30"
   ]
  },
  {
   "cell_type": "markdown",
   "metadata": {},
   "source": [
    "# Google Scholar"
   ]
  },
  {
   "cell_type": "code",
   "execution_count": 10,
   "metadata": {},
   "outputs": [
    {
     "name": "stderr",
     "output_type": "stream",
     "text": [
      "[ INFO]  requesting http://scholar.google.com/scholar_settings?sciifh=1&hl=en&as_sdt=0,5\n",
      "[ INFO]  requesting http://scholar.google.com/scholar_setprefs?q=&scisig=AAGBfm0AAAAAWmZQfpflxnWKB9QRSBN2sPKp2dgxY_fc&inststart=0&as_sdt=1,5&as_sdtp=&num=None&scis=yes&scisf=4&hl=en&lang=all&instq=&inst=569367360547434339&save=\n",
      "[ INFO]  settings applied\n"
     ]
    },
    {
     "data": {
      "text/plain": [
       "True"
      ]
     },
     "execution_count": 10,
     "metadata": {},
     "output_type": "execute_result"
    }
   ],
   "source": [
    "# Prepare scholar extractor\n",
    "querier = scholar.ScholarQuerier()\n",
    "settings = scholar.ScholarSettings()\n",
    "settings.set_citation_format(scholar.ScholarSettings.CITFORM_BIBTEX)\n",
    "querier.apply_settings(settings)"
   ]
  },
  {
   "cell_type": "code",
   "execution_count": 11,
   "metadata": {},
   "outputs": [],
   "source": [
    "def submit(author, keyphrase):\n",
    "    query = scholar.SearchScholarQuery()\n",
    "    query.set_author(author)\n",
    "    query.set_phrase(keyphrase)\n",
    "    query.set_num_page_results(RES_LIMIT)\n",
    "    querier.send_query(query)\n",
    "    results = scholar.json(querier)\n",
    "    return results"
   ]
  },
  {
   "cell_type": "code",
   "execution_count": 9,
   "metadata": {},
   "outputs": [],
   "source": [
    "author = \"fodor\"\n",
    "phrase = \"language\""
   ]
  },
  {
   "cell_type": "code",
   "execution_count": 14,
   "metadata": {},
   "outputs": [
    {
     "data": {
      "text/plain": [
       "[{'authors': ['P Gärdenfors'],\n",
       "  'cluster_id': '3985340221429114199',\n",
       "  'excerpt': \"IMAGING AND CONDITIONALIZATION 749 lion of Lewis's process which does not rely on the assumption that, for every world W, there is a unique world that is the most similar to W where a given sentence A is true. Secondly, I shall give a characterization of the generalized \",\n",
       "  'num_citations': 73,\n",
       "  'num_versions': 5,\n",
       "  'title': 'Imaging and conditionalization',\n",
       "  'url': 'https://www.pdcnet.org/jphil/content/jphil_1982_0079_0012_0747_0760',\n",
       "  'url_citation': 'https://scholar.googleusercontent.com/scholar.bib?q=info:V-Vb79DFTjcJ:scholar.google.com/&output=citation&scisig=AAGBfm0AAAAAWmZQpzsCPauD8obGRvsvTos2HLGaJXrt&scisf=4&ct=citation&cd=0&hl=en',\n",
       "  'url_citations': 'http://scholar.google.com/scholar?cites=3985340221429114199&as_sdt=2005&sciodt=0,5&hl=en',\n",
       "  'url_pdf': None,\n",
       "  'url_versions': 'http://scholar.google.com/scholar?cluster=3985340221429114199&hl=en&as_sdt=0,5',\n",
       "  'year': '1982'},\n",
       " {'authors': ['DZ Gãrdenfors', 'M Eriksson'],\n",
       "  'cluster_id': '5375879262569760414',\n",
       "  'excerpt': 'A communication device useful for video chat applications employs face recognition and tracking functionality to display an indication of the near-end user being properly positioned within an image capture area of the communication device without displaying the near-end ',\n",
       "  'num_citations': 1,\n",
       "  'num_versions': 2,\n",
       "  'title': 'Apparatus and associated method for face tracking in video conference and video chat communications',\n",
       "  'url': 'https://patents.google.com/patent/US20130147980A1/en',\n",
       "  'url_citation': 'https://scholar.googleusercontent.com/scholar.bib?q=info:ngbc6LT1mkoJ:scholar.google.com/&output=citation&scisig=AAGBfm0AAAAAWmZQp6jEFLr0W9LaezbTm2301d7jHlwx&scisf=4&ct=citation&cd=1&hl=en',\n",
       "  'url_citations': 'http://scholar.google.com/scholar?cites=5375879262569760414&as_sdt=2005&sciodt=0,5&hl=en',\n",
       "  'url_pdf': None,\n",
       "  'url_versions': 'http://scholar.google.com/scholar?cluster=5375879262569760414&hl=en&as_sdt=0,5',\n",
       "  'year': '2013'},\n",
       " {'authors': ['KR Johansson', 'DZ Gärdenfors', 'EA Wasberger…'],\n",
       "  'cluster_id': None,\n",
       "  'excerpt': 'A computer implemented method includes, at an electronic device having an input interface and a display, receiving information relating to a current relative location of at least one other electronic device, displaying on the display a representation of the at least one other ',\n",
       "  'num_citations': 0,\n",
       "  'num_versions': 4,\n",
       "  'title': 'Method and apparatus for interconnected devices',\n",
       "  'url': 'https://www.google.com/patents/US9161166',\n",
       "  'url_citation': 'https://scholar.googleusercontent.com/scholar.bib?q=info:3q4luqJ3Bg0J:scholar.google.com/&output=citation&scisig=AAGBfm0AAAAAWmZQp1wqZWscGziIpvPD8KXxy5ykw79-&scisf=4&ct=citation&cd=2&hl=en',\n",
       "  'url_citations': None,\n",
       "  'url_pdf': None,\n",
       "  'url_versions': 'http://scholar.google.com/scholar?cluster=938569113144766174&hl=en&as_sdt=0,5',\n",
       "  'year': '2015'},\n",
       " {'authors': ['M Eriksson', 'DZ Gardenfors'],\n",
       "  'cluster_id': None,\n",
       "  'excerpt': 'A method and system for rendering scenes in stereoscopic 3-D comprises identifying, or detecting, that a rate of change, of one or more elements of a scene to be rendered in stereoscopic 3-D, satisfies a criterion. The perceived depth of elements of the scene is then ',\n",
       "  'num_citations': 0,\n",
       "  'num_versions': 4,\n",
       "  'title': 'System and method for stereoscopic 3-D rendering',\n",
       "  'url': 'https://www.google.com/patents/US9628770',\n",
       "  'url_citation': 'https://scholar.googleusercontent.com/scholar.bib?q=info:b1E6P_5oNzAJ:scholar.google.com/&output=citation&scisig=AAGBfm0AAAAAWmZQp9frB1BP8CoREHfRBec_QjwRULgb&scisf=4&ct=citation&cd=3&hl=en',\n",
       "  'url_citations': None,\n",
       "  'url_pdf': None,\n",
       "  'url_versions': 'http://scholar.google.com/scholar?cluster=3474361078731395439&hl=en&as_sdt=0,5',\n",
       "  'year': '2017'},\n",
       " {'authors': ['P Gärdenfors'],\n",
       "  'cluster_id': '13638802412943228739',\n",
       "  'excerpt': 'The purpose of this paper is to present a part of the history of ideas that led up to the formulation of the AGM theory [1]. David Makinson [26] has already written an excellent survey of what was new in the theory. Some historical details are also included in his ',\n",
       "  'num_citations': 6,\n",
       "  'num_versions': 9,\n",
       "  'title': 'Notes on the history of ideas behind AGM',\n",
       "  'url': 'http://www.springerlink.com/index/CM865421381967R8.pdf',\n",
       "  'url_citation': 'https://scholar.googleusercontent.com/scholar.bib?q=info:Q784eYjCRr0J:scholar.google.com/&output=citation&scisig=AAGBfm0AAAAAWmZQp_kJo0_pZVyooJWDV3bBVGEfpXeN&scisf=4&ct=citation&cd=4&hl=en',\n",
       "  'url_citations': 'http://scholar.google.com/scholar?cites=13638802412943228739&as_sdt=2005&sciodt=0,5&hl=en',\n",
       "  'url_pdf': 'http://www.springerlink.com/index/CM865421381967R8.pdf',\n",
       "  'url_versions': 'http://scholar.google.com/scholar?cluster=13638802412943228739&hl=en&as_sdt=0,5',\n",
       "  'year': '2011'},\n",
       " {'authors': ['A Björklund', 'T Gärdenfors', 'T Edsö'],\n",
       "  'cluster_id': '14496752787800622736',\n",
       "  'excerpt': 'A position code is recorded by capturing a sequence of images while writing on the base with a user unit. The position code may be decoded to a sequence of absolute positions reflecting the movement of the user unit over the base. If the position code in any image is ',\n",
       "  'num_citations': 7,\n",
       "  'num_versions': 5,\n",
       "  'title': 'Method, apparatus, computer program and storage medium for recording a movement of a user unit',\n",
       "  'url': 'https://www.google.com/patents/US7865043',\n",
       "  'url_citation': 'https://scholar.googleusercontent.com/scholar.bib?q=info:kIaCedrPLskJ:scholar.google.com/&output=citation&scisig=AAGBfm0AAAAAWmZQp3xORO5DTkA_5Wa3TDZ3Q6oLM5nY&scisf=4&ct=citation&cd=5&hl=en',\n",
       "  'url_citations': 'http://scholar.google.com/scholar?cites=14496752787800622736&as_sdt=2005&sciodt=0,5&hl=en',\n",
       "  'url_pdf': None,\n",
       "  'url_versions': 'http://scholar.google.com/scholar?cluster=14496752787800622736&hl=en&as_sdt=0,5',\n",
       "  'year': '2011'},\n",
       " {'authors': ['P Gärdenfors'],\n",
       "  'cluster_id': '5345084509683811265',\n",
       "  'excerpt': \"Abstract Corresponding to Glenberg's distinction between the automatic and effortful modes of memory, I propose a distinction between cued and detached mental representations. A cued representation stands for something that is present in the external situation of the \",\n",
       "  'num_citations': 31,\n",
       "  'num_versions': 4,\n",
       "  'title': 'The role of memory in planning and pretense',\n",
       "  'url': 'https://www.cambridge.org/core/journals/behavioral-and-brain-sciences/article/the-role-of-memory-in-planning-and-pretense/618D2AF92B60CCD3C3A962FEF2AC19B7',\n",
       "  'url_citation': 'https://scholar.googleusercontent.com/scholar.bib?q=info:wYMlxgqOLUoJ:scholar.google.com/&output=citation&scisig=AAGBfm0AAAAAWmZQp_WQ1u9LXJaSkTi4Pc1G7Oeo2Vfu&scisf=4&ct=citation&cd=6&hl=en',\n",
       "  'url_citations': 'http://scholar.google.com/scholar?cites=5345084509683811265&as_sdt=2005&sciodt=0,5&hl=en',\n",
       "  'url_pdf': None,\n",
       "  'url_versions': 'http://scholar.google.com/scholar?cluster=5345084509683811265&hl=en&as_sdt=0,5',\n",
       "  'year': '1997'},\n",
       " {'authors': ['E Soto', 'N Brown', 'ZO Gardenfors', 'S Yount…'],\n",
       "  'cluster_id': '13623951517337648415',\n",
       "  'excerpt': 'Abstract Francisella noatunensis subsp. orientalis (Fno) is a pleomorphic, facultative intracellular, Gram-negative, emerging bacterial pathogen of marine and fresh water fish with worldwide distribution. In this study, the efficacy of an attenuated Fno intracellular ',\n",
       "  'num_citations': 6,\n",
       "  'num_versions': 5,\n",
       "  'title': 'Effect of size and temperature at vaccination on immunization and protection conferred by a live attenuated Francisella noatunensis immersion vaccine in\\xa0…',\n",
       "  'url': 'http://www.sciencedirect.com/science/article/pii/S1050464814003830',\n",
       "  'url_citation': 'https://scholar.googleusercontent.com/scholar.bib?q=info:H_0N5Lj_Eb0J:scholar.google.com/&output=citation&scisig=AAGBfm0AAAAAWmZQp8DRB1OWmCaSXr7b4sSVAHNNDqoV&scisf=4&ct=citation&cd=7&hl=en',\n",
       "  'url_citations': 'http://scholar.google.com/scholar?cites=13623951517337648415&as_sdt=2005&sciodt=0,5&hl=en',\n",
       "  'url_pdf': None,\n",
       "  'url_versions': 'http://scholar.google.com/scholar?cluster=13623951517337648415&hl=en&as_sdt=0,5',\n",
       "  'year': '2014'},\n",
       " {'authors': ['DZ Gardenfors', 'KR Johansson'],\n",
       "  'cluster_id': '8825517129571121530',\n",
       "  'excerpt': 'Systems and method of displaying supplementary information on a display based on contact points is provided. Two or more contact points are detected on a presented graphic, such as a map or graph shown on a display on an electronic device. A portion of the presented ',\n",
       "  'num_citations': 3,\n",
       "  'num_versions': 2,\n",
       "  'title': 'System and method for displaying supplementary information associated with a graphic object on a display of an electronic device',\n",
       "  'url': 'https://patents.google.com/patent/US20130300764A1/en',\n",
       "  'url_citation': 'https://scholar.googleusercontent.com/scholar.bib?q=info:ejk22xGJenoJ:scholar.google.com/&output=citation&scisig=AAGBfm0AAAAAWmZQp5FtQ_eXnJXyBKJYLyTWX1v-bdjg&scisf=4&ct=citation&cd=8&hl=en',\n",
       "  'url_citations': 'http://scholar.google.com/scholar?cites=8825517129571121530&as_sdt=2005&sciodt=0,5&hl=en',\n",
       "  'url_pdf': None,\n",
       "  'url_versions': 'http://scholar.google.com/scholar?cluster=8825517129571121530&hl=en&as_sdt=0,5',\n",
       "  'year': '2013'},\n",
       " {'authors': ['J Marggraff', 'TL Edgecomb', 'G Acosta'],\n",
       "  'cluster_id': '3877178219215126785',\n",
       "  'excerpt': 'Paper-based playback of media can be performed by electronically recording handwritten notes including pen strokes using a digital pen on a position-coded paper. A plurality of bounding areas is identified, eg by generating bounding areas around the pen strokes as ',\n",
       "  'num_citations': 1,\n",
       "  'num_versions': 5,\n",
       "  'title': 'System and method for recalling media',\n",
       "  'url': 'https://www.google.com/patents/US8427344',\n",
       "  'url_citation': 'https://scholar.googleusercontent.com/scholar.bib?q=info:AQEzVwyBzjUJ:scholar.google.com/&output=citation&scisig=AAGBfm0AAAAAWmZQp-HQAuyG5ZqZNE6mCUoCAwj22RPi&scisf=4&ct=citation&cd=9&hl=en',\n",
       "  'url_citations': 'http://scholar.google.com/scholar?cites=3877178219215126785&as_sdt=2005&sciodt=0,5&hl=en',\n",
       "  'url_pdf': None,\n",
       "  'url_versions': 'http://scholar.google.com/scholar?cluster=3877178219215126785&hl=en&as_sdt=0,5',\n",
       "  'year': '2013'},\n",
       " {'authors': ['M Eriksson', 'DZ Gärdenfors…'],\n",
       "  'cluster_id': '15969905390515571887',\n",
       "  'excerpt': 'A control circuit detects a predetermined event (such as but not limited to a particular time of day) and responsively automatically switches to an alarm state. While in this alarm state the control circuit monitors at least one non-snooze-specific area of a user input (such as but not ',\n",
       "  'num_citations': 3,\n",
       "  'num_versions': 2,\n",
       "  'title': 'Method and Apparatus Pertaining to a Gesture-Controlled Snooze Instruction',\n",
       "  'url': 'https://patents.google.com/patent/US20140026105A1/en',\n",
       "  'url_citation': 'https://scholar.googleusercontent.com/scholar.bib?q=info:r8xGKleAoN0J:scholar.google.com/&output=citation&scisig=AAGBfm0AAAAAWmZQp-SK_GeB5NJg0r_3whsBzzrtnStK&scisf=4&ct=citation&cd=10&hl=en',\n",
       "  'url_citations': 'http://scholar.google.com/scholar?cites=15969905390515571887&as_sdt=2005&sciodt=0,5&hl=en',\n",
       "  'url_pdf': None,\n",
       "  'url_versions': 'http://scholar.google.com/scholar?cluster=15969905390515571887&hl=en&as_sdt=0,5',\n",
       "  'year': '2014'},\n",
       " {'authors': ['P Gärdenfors'],\n",
       "  'cluster_id': '97275185237707810',\n",
       "  'excerpt': \"F P. Ramsey's test for evaluating a conditional proposition can* be described as follows: in order to find out whether a condi-tional proposition is acceptable in a given state of belief, one first adds the antecedent of the conditional hypothetically to the given stock of beliefs. \",\n",
       "  'num_citations': 209,\n",
       "  'num_versions': 5,\n",
       "  'title': 'Belief revisions and the Ramsey test for conditionals',\n",
       "  'url': 'http://www.jstor.org/stable/2185133',\n",
       "  'url_citation': 'https://scholar.googleusercontent.com/scholar.bib?q=info:IsyN_UOXWQEJ:scholar.google.com/&output=citation&scisig=AAGBfm0AAAAAWmZQp-ubwMnyrnCfZvNUZQLFfqsefr-f&scisf=4&ct=citation&cd=11&hl=en',\n",
       "  'url_citations': 'http://scholar.google.com/scholar?cites=97275185237707810&as_sdt=2005&sciodt=0,5&hl=en',\n",
       "  'url_pdf': None,\n",
       "  'url_versions': 'http://scholar.google.com/scholar?cluster=97275185237707810&hl=en&as_sdt=0,5',\n",
       "  'year': '1986'},\n",
       " {'authors': ['A Borgström', 'M Hollström', 'T Gärdenfors'],\n",
       "  'cluster_id': '833001389110985565',\n",
       "  'excerpt': 'A method and system for controlling an electronic device uses a reading device and a specially formatted surface. The specially formatted surface includes a predefined address pattern and at least one field for use in performing a control function on the electronic device. ',\n",
       "  'num_citations': 25,\n",
       "  'num_versions': 2,\n",
       "  'title': 'Method and system for using an electronic reading device as a general application input and navigation interface',\n",
       "  'url': 'https://www.google.com/patents/US6885878',\n",
       "  'url_citation': 'https://scholar.googleusercontent.com/scholar.bib?q=info:XQNel1lqjwsJ:scholar.google.com/&output=citation&scisig=AAGBfm0AAAAAWmZQp2NDW6J7PcAEyxsyeR9CTQw8Z6Re&scisf=4&ct=citation&cd=12&hl=en',\n",
       "  'url_citations': 'http://scholar.google.com/scholar?cites=833001389110985565&as_sdt=2005&sciodt=0,5&hl=en',\n",
       "  'url_pdf': None,\n",
       "  'url_versions': 'http://scholar.google.com/scholar?cluster=833001389110985565&hl=en&as_sdt=0,5',\n",
       "  'year': '2005'},\n",
       " {'authors': ['M Hollstrom', 'T Gardenfors'],\n",
       "  'cluster_id': '13452246304475112420',\n",
       "  'excerpt': 'A method and system for displaying feedback in an electronic reading device system. An electronic reading device is used to detect portions of an address pattern on a formatted surface. The detected portions are converted into feedback that is then displayed on an ',\n",
       "  'num_citations': 9,\n",
       "  'num_versions': 2,\n",
       "  'title': 'Electronic pen help feedback and information retrieval',\n",
       "  'url': 'https://patents.google.com/patent/US20010033293A1/en',\n",
       "  'url_citation': 'https://scholar.googleusercontent.com/scholar.bib?q=info:5ONMqb36r7oJ:scholar.google.com/&output=citation&scisig=AAGBfm0AAAAAWmZQpw3Lds8kpbOgFcCH6QLsaAHYXCL0&scisf=4&ct=citation&cd=13&hl=en',\n",
       "  'url_citations': 'http://scholar.google.com/scholar?cites=13452246304475112420&as_sdt=2005&sciodt=0,5&hl=en',\n",
       "  'url_pdf': None,\n",
       "  'url_versions': 'http://scholar.google.com/scholar?cluster=13452246304475112420&hl=en&as_sdt=0,5',\n",
       "  'year': '2001'},\n",
       " {'authors': ['M Hollström', 'T Gärdenfors'],\n",
       "  'cluster_id': '8069974974731615328',\n",
       "  'excerpt': 'A method and system for electronic information sharing is implemented between two electronic reading devices. A first electronic reading device detects portions of an address pattern. The address pattern is formatted such that a position of the first electronic reading ',\n",
       "  'num_citations': 13,\n",
       "  'num_versions': 2,\n",
       "  'title': 'Method for sharing information between electronic reading devices',\n",
       "  'url': 'https://www.google.com/patents/US6813396',\n",
       "  'url_citation': 'https://scholar.googleusercontent.com/scholar.bib?q=info:YHwro3tP_m8J:scholar.google.com/&output=citation&scisig=AAGBfm0AAAAAWmZQp1cXknjnOw7qwRsSoqAkF9PJUkFy&scisf=4&ct=citation&cd=14&hl=en',\n",
       "  'url_citations': 'http://scholar.google.com/scholar?cites=8069974974731615328&as_sdt=2005&sciodt=0,5&hl=en',\n",
       "  'url_pdf': None,\n",
       "  'url_versions': 'http://scholar.google.com/scholar?cluster=8069974974731615328&hl=en&as_sdt=0,5',\n",
       "  'year': '2004'},\n",
       " {'authors': ['JG Haliburton', 'DZ Gardenfors'],\n",
       "  'cluster_id': None,\n",
       "  'excerpt': \"A control circuit provides a three-dimensional presentation of one or more user-interaction opportunities and then detects a user's likely interaction with that user-interaction opportunity. Upon detecting this likely interaction the control circuit automatically flattens the \",\n",
       "  'num_citations': 0,\n",
       "  'num_versions': 2,\n",
       "  'title': 'Method and apparatus pertaining to modification of a three-dimensional presentation of a user-interaction opportunity',\n",
       "  'url': 'https://patents.google.com/patent/US20130162624A1/en',\n",
       "  'url_citation': 'https://scholar.googleusercontent.com/scholar.bib?q=info:NHhS9E3GX8kJ:scholar.google.com/&output=citation&scisig=AAGBfm0AAAAAWmZQpxHlBcCCGltHoyyaCimFvS1JSdEM&scisf=4&ct=citation&cd=15&hl=en',\n",
       "  'url_citations': None,\n",
       "  'url_pdf': None,\n",
       "  'url_versions': 'http://scholar.google.com/scholar?cluster=14510534562524854324&hl=en&as_sdt=0,5',\n",
       "  'year': '2013'},\n",
       " {'authors': ['K Tunblad', 'P Ederoth', 'A Gärdenfors…'],\n",
       "  'cluster_id': '18434372515950307603',\n",
       "  'excerpt': 'Background: During pathologic conditions such as meningitis and traumatic brain injury the function of the blood–brain barrier (BBB) is disturbed. In the present study we examined the cerebral pharmacokinetic pattern of morphine in the intact brain and during experimentally ',\n",
       "  'num_citations': 35,\n",
       "  'num_versions': 10,\n",
       "  'title': 'Altered brain exposure of morphine in experimental meningitis studied with microdialysis',\n",
       "  'url': 'http://onlinelibrary.wiley.com/doi/10.1111/j.0001-5172.2003.0311.x/full',\n",
       "  'url_citation': 'https://scholar.googleusercontent.com/scholar.bib?q=info:EylxPiIM1P8J:scholar.google.com/&output=citation&scisig=AAGBfm0AAAAAWmZQp3vgV3bawE5_0FN_YYBso79nAuPT&scisf=4&ct=citation&cd=16&hl=en',\n",
       "  'url_citations': 'http://scholar.google.com/scholar?cites=18434372515950307603&as_sdt=2005&sciodt=0,5&hl=en',\n",
       "  'url_pdf': None,\n",
       "  'url_versions': 'http://scholar.google.com/scholar?cluster=18434372515950307603&hl=en&as_sdt=0,5',\n",
       "  'year': '2004'},\n",
       " {'authors': ['DZ Gärdenfors'],\n",
       "  'cluster_id': '16415190564614615181',\n",
       "  'excerpt': 'A system and method are provided including an electronic device having a processor, a display coupled to the processor, a memory coupled to the processor, a short-range communication system coupled to the processor, a transducer coupled to the processor, and ',\n",
       "  'num_citations': 1,\n",
       "  'num_versions': 2,\n",
       "  'title': 'System and method for indicating pairing availability between devices',\n",
       "  'url': 'https://patents.google.com/patent/US20150327309A1/en',\n",
       "  'url_citation': 'https://scholar.googleusercontent.com/scholar.bib?q=info:jbAy3Nh4zuMJ:scholar.google.com/&output=citation&scisig=AAGBfm0AAAAAWmZQp8EWE96_Y07epZU_GxZ2UMbMgIJi&scisf=4&ct=citation&cd=17&hl=en',\n",
       "  'url_citations': 'http://scholar.google.com/scholar?cites=16415190564614615181&as_sdt=2005&sciodt=0,5&hl=en',\n",
       "  'url_pdf': None,\n",
       "  'url_versions': 'http://scholar.google.com/scholar?cluster=16415190564614615181&hl=en&as_sdt=0,5',\n",
       "  'year': '2015'},\n",
       " {'authors': ['FO Hanssen', 'TG Heggberget', 'J Bladt', 'DTF Endresen…'],\n",
       "  'cluster_id': None,\n",
       "  'excerpt': 'The main goal of the present report is to outline the possibilities for an enhanced cooperation between the Nordic countries within eScience and biodiversity. LifeWatch is one of several ESFRI projects which aim to establish eInfrastructures and databases in the ',\n",
       "  'num_citations': 0,\n",
       "  'num_versions': 4,\n",
       "  'title': 'Nordic LifeWatch cooperation, final report: A joint initiative from Denmark, Iceland, Finland, Norway and Sweden',\n",
       "  'url': 'https://brage.bibsys.no/xmlui/handle/11250/2395084',\n",
       "  'url_citation': 'https://scholar.googleusercontent.com/scholar.bib?q=info:5jGn5360_PQJ:scholar.google.com/&output=citation&scisig=AAGBfm0AAAAAWmZQpwiyeZ3YRyMSLDRSttxPnKFPJV5H&scisf=4&ct=citation&cd=18&hl=en',\n",
       "  'url_citations': None,\n",
       "  'url_pdf': None,\n",
       "  'url_versions': 'http://scholar.google.com/scholar?cluster=17653183096530874854&hl=en&as_sdt=0,5',\n",
       "  'year': '2014'},\n",
       " {'authors': ['M Osvath', 'P Gärdenfors'],\n",
       "  'cluster_id': '9591253057314185382',\n",
       "  'excerpt': 'Abstract We are not entirely satisfied with the evolutionary explanation provided by Suddendorf & Corballis (S&C) for why only humans should be capable of advanced mental time travel. General social factors do not suffice, given that other primates are also highly ',\n",
       "  'num_citations': 3,\n",
       "  'num_versions': 6,\n",
       "  'title': 'What are the evolutionary causes of mental time travel?',\n",
       "  'url': 'https://www.cambridge.org/core/journals/behavioral-and-brain-sciences/article/what-are-the-evolutionary-causes-of-mental-time-travel/08EB9313D188C82E426DE81BEC841417',\n",
       "  'url_citation': 'https://scholar.googleusercontent.com/scholar.bib?q=info:pmAXyNb5GoUJ:scholar.google.com/&output=citation&scisig=AAGBfm0AAAAAWmZQp0OJ6VQSIe1UjYwQ42pGIpKwu4d2&scisf=4&ct=citation&cd=19&hl=en',\n",
       "  'url_citations': 'http://scholar.google.com/scholar?cites=9591253057314185382&as_sdt=2005&sciodt=0,5&hl=en',\n",
       "  'url_pdf': None,\n",
       "  'url_versions': 'http://scholar.google.com/scholar?cluster=9591253057314185382&hl=en&as_sdt=0,5',\n",
       "  'year': '2007'}]"
      ]
     },
     "execution_count": 14,
     "metadata": {},
     "output_type": "execute_result"
    }
   ],
   "source": [
    "data"
   ]
  },
  {
   "cell_type": "markdown",
   "metadata": {},
   "source": [
    "# Scopus API"
   ]
  },
  {
   "cell_type": "code",
   "execution_count": 6,
   "metadata": {},
   "outputs": [],
   "source": [
    "url = \"http://api.elsevier.com/content/search/scopus\"\n",
    "key = '23096dfc3e1a8d87504a227fb4314c9f'"
   ]
  },
  {
   "cell_type": "code",
   "execution_count": 7,
   "metadata": {},
   "outputs": [],
   "source": [
    "def scopus_submit(author, phrase):\n",
    "    query = re.sub(\"\\s+\", \"\\+\", phrase)\n",
    "    if author != \"\":\n",
    "        author = \"AUTH%28{}%29\".format(re.sub(\"\\s+\", \"\\+\", author))\n",
    "        query = \"{}+{}\".format(author, query)\n",
    "    view = \"STANDARD\"\n",
    "    count = \"10\"\n",
    "    r = requests.get(\"{}?query={}&apiKey={}&view={}&count={}\".format(url, query, key, view, count))\n",
    "    return r.json()"
   ]
  },
  {
   "cell_type": "code",
   "execution_count": 10,
   "metadata": {},
   "outputs": [],
   "source": [
    "data = scopus_submit(author, phrase)"
   ]
  },
  {
   "cell_type": "code",
   "execution_count": 11,
   "metadata": {},
   "outputs": [
    {
     "data": {
      "text/plain": [
       "10"
      ]
     },
     "execution_count": 11,
     "metadata": {},
     "output_type": "execute_result"
    }
   ],
   "source": [
    "len(data['search-results']['entry'])"
   ]
  },
  {
   "cell_type": "code",
   "execution_count": 12,
   "metadata": {},
   "outputs": [
    {
     "data": {
      "text/plain": [
       "'10.1177/0023830916665653'"
      ]
     },
     "execution_count": 12,
     "metadata": {},
     "output_type": "execute_result"
    }
   ],
   "source": [
    "data['search-results']['entry'][1]['prism:doi']"
   ]
  },
  {
   "cell_type": "code",
   "execution_count": 13,
   "metadata": {},
   "outputs": [],
   "source": [
    "doi = data['search-results']['entry'][6]['prism:doi']"
   ]
  },
  {
   "cell_type": "code",
   "execution_count": 14,
   "metadata": {},
   "outputs": [
    {
     "data": {
      "text/plain": [
       "'10.1371/journal.pone.0170208'"
      ]
     },
     "execution_count": 14,
     "metadata": {},
     "output_type": "execute_result"
    }
   ],
   "source": [
    "doi"
   ]
  },
  {
   "cell_type": "markdown",
   "metadata": {},
   "source": [
    "# Get article from Unpaywall"
   ]
  },
  {
   "cell_type": "code",
   "execution_count": 35,
   "metadata": {},
   "outputs": [],
   "source": [
    "# http://unpaywall.org/api/v2"
   ]
  },
  {
   "cell_type": "code",
   "execution_count": 55,
   "metadata": {},
   "outputs": [],
   "source": [
    "def unpaywall_check(doi):\n",
    "    r = requests.get(\"https://api.oadoi.org/v2/{}?email=test@example.com\".format(doi))\n",
    "    response = r.json()\n",
    "    return response['is_oa']"
   ]
  },
  {
   "cell_type": "code",
   "execution_count": 56,
   "metadata": {},
   "outputs": [],
   "source": [
    "# https://stackoverflow.com/questions/15644964/python-progress-bar-and-downloads\n",
    "\n",
    "def unpaywall_download(doi, save=\"test.pdf\"):\n",
    "    r = requests.get(\"https://api.oadoi.org/v2/{}?email=test@example.com\".format(doi))\n",
    "    response = r.json()\n",
    "    for loc in response['oa_locations']:\n",
    "        if loc['url_for_pdf']:\n",
    "            dl = requests.get(loc['url_for_pdf'])\n",
    "            with open(save, 'wb') as output:\n",
    "                output.write(dl.content)\n",
    "            return True\n",
    "        else:\n",
    "            continue\n",
    "    return False"
   ]
  },
  {
   "cell_type": "code",
   "execution_count": 57,
   "metadata": {},
   "outputs": [
    {
     "data": {
      "text/plain": [
       "True"
      ]
     },
     "execution_count": 57,
     "metadata": {},
     "output_type": "execute_result"
    }
   ],
   "source": [
    "unpaywall_check(doi)"
   ]
  },
  {
   "cell_type": "code",
   "execution_count": 58,
   "metadata": {},
   "outputs": [
    {
     "data": {
      "text/plain": [
       "True"
      ]
     },
     "execution_count": 58,
     "metadata": {},
     "output_type": "execute_result"
    }
   ],
   "source": [
    "unpaywall_download(doi)"
   ]
  },
  {
   "cell_type": "markdown",
   "metadata": {},
   "source": [
    "# Get article from Scihub"
   ]
  },
  {
   "cell_type": "code",
   "execution_count": 60,
   "metadata": {},
   "outputs": [],
   "source": [
    "sh = SciHub()"
   ]
  },
  {
   "cell_type": "code",
   "execution_count": 63,
   "metadata": {},
   "outputs": [],
   "source": [
    "def scihub_download(doi, save=\"text2.pdf\"):\n",
    "    try:\n",
    "        dl = sh.download(doi)\n",
    "    except Exception as e:\n",
    "        print(e)\n",
    "        return False\n",
    "#     with open(save, 'wb') as output:\n",
    "#         output.write(dl['pdf'])\n",
    "    return True"
   ]
  },
  {
   "cell_type": "code",
   "execution_count": 62,
   "metadata": {},
   "outputs": [
    {
     "data": {
      "text/plain": [
       "True"
      ]
     },
     "execution_count": 62,
     "metadata": {},
     "output_type": "execute_result"
    }
   ],
   "source": [
    "scihub_download(doi)"
   ]
  },
  {
   "cell_type": "markdown",
   "metadata": {},
   "source": [
    "# Get citations from Crossref"
   ]
  },
  {
   "cell_type": "code",
   "execution_count": 15,
   "metadata": {},
   "outputs": [],
   "source": [
    "cr = Crossref()"
   ]
  },
  {
   "cell_type": "code",
   "execution_count": 16,
   "metadata": {},
   "outputs": [
    {
     "name": "stdout",
     "output_type": "stream",
     "text": [
      "@article{Kleiman_2017,\n",
      "\tdoi = {10.1371/journal.pone.0170208},\n",
      "\turl = {https://doi.org/10.1371%2Fjournal.pone.0170208},\n",
      "\tyear = 2017,\n",
      "\tmonth = {jan},\n",
      "\tpublisher = {Public Library of Science ({PLoS})},\n",
      "\tvolume = {12},\n",
      "\tnumber = {1},\n",
      "\tpages = {e0170208},\n",
      "\tauthor = {Susan C. Kleiman and Emily C. Bulik-Sullivan and Elaine M. Glenny and Stephanie C. Zerwas and Eun Young Huh and Matthew C. B. Tsilimigras and Anthony A. Fodor and Cynthia M. Bulik and Ian M. Carroll},\n",
      "\teditor = {Brenda A Wilson},\n",
      "\ttitle = {The Gut-Brain Axis in Healthy Females: Lack of Significant Association between Microbial Composition and Diversity with Psychiatric Measures},\n",
      "\tjournal = {{PLOS} {ONE}}\n",
      "}\n"
     ]
    }
   ],
   "source": [
    "print(cn.content_negotiation(ids=doi, format=\"bibentry\"))"
   ]
  },
  {
   "cell_type": "code",
   "execution_count": 1,
   "metadata": {},
   "outputs": [],
   "source": [
    "# cn.content_negotiation(ids = '10.1126/science.169.3946.635')\n",
    "# cn.content_negotiation(ids = '10.1126/science.169.3946.635', format = \"citeproc-json\")\n",
    "# cn.content_negotiation(ids = \"10.1126/science.169.3946.635\", format = \"rdf-xml\")\n",
    "# cn.content_negotiation(ids = \"10.1126/science.169.3946.635\", format = \"text\")\n",
    "# cn.content_negotiation(ids = \"10.1126/science.169.3946.635\", format = \"text\", style = \"apa\")\n",
    "# cn.content_negotiation(ids = \"10.1126/science.169.3946.635\", format = \"bibentry\")"
   ]
  },
  {
   "cell_type": "code",
   "execution_count": 35,
   "metadata": {},
   "outputs": [],
   "source": [
    "x = cr.works(query = \"ecology\", offset=100)"
   ]
  },
  {
   "cell_type": "code",
   "execution_count": 41,
   "metadata": {},
   "outputs": [
    {
     "data": {
      "text/plain": [
       "{'DOI': '10.1007/978-94-017-1899-8_7',\n",
       " 'ISBN': ['9789048142989', '9789401718998'],\n",
       " 'ISSN': ['0926-9754'],\n",
       " 'URL': 'http://dx.doi.org/10.1007/978-94-017-1899-8_7',\n",
       " 'author': [{'affiliation': [], 'family': 'Ruth', 'given': 'Matthias'}],\n",
       " 'container-title': ['Ecology, Economy & Environment',\n",
       "  'Integrating Economics, Ecology and Thermodynamics'],\n",
       " 'content-domain': {'crossmark-restriction': False, 'domain': []},\n",
       " 'created': {'date-parts': [[2013, 3, 8]],\n",
       "  'date-time': '2013-03-08T13:18:19Z',\n",
       "  'timestamp': 1362748699000},\n",
       " 'deposited': {'date-parts': [[2013, 3, 8]],\n",
       "  'date-time': '2013-03-08T13:18:27Z',\n",
       "  'timestamp': 1362748707000},\n",
       " 'indexed': {'date-parts': [[2017, 10, 26]],\n",
       "  'date-time': '2017-10-26T05:09:26Z',\n",
       "  'timestamp': 1508994566458},\n",
       " 'is-referenced-by-count': 0,\n",
       " 'issn-type': [{'type': 'print', 'value': '0926-9754'}],\n",
       " 'issued': {'date-parts': [[1993]]},\n",
       " 'link': [{'URL': 'http://link.springer.com/content/pdf/10.1007/978-94-017-1899-8_7',\n",
       "   'content-type': 'unspecified',\n",
       "   'content-version': 'vor',\n",
       "   'intended-application': 'similarity-checking'}],\n",
       " 'member': '297',\n",
       " 'page': '92-110',\n",
       " 'prefix': '10.1007',\n",
       " 'published-print': {'date-parts': [[1993]]},\n",
       " 'publisher': 'Springer Netherlands',\n",
       " 'publisher-location': 'Dordrecht',\n",
       " 'reference-count': 0,\n",
       " 'references-count': 0,\n",
       " 'score': 9.600247,\n",
       " 'source': 'Crossref',\n",
       " 'title': ['Economics and Ecology'],\n",
       " 'type': 'book-chapter'}"
      ]
     },
     "execution_count": 41,
     "metadata": {},
     "output_type": "execute_result"
    }
   ],
   "source": [
    "x['message']['items'][0]"
   ]
  }
 ],
 "metadata": {
  "kernelspec": {
   "display_name": "Python 3",
   "language": "python",
   "name": "python3"
  },
  "language_info": {
   "codemirror_mode": {
    "name": "ipython",
    "version": 3
   },
   "file_extension": ".py",
   "mimetype": "text/x-python",
   "name": "python",
   "nbconvert_exporter": "python",
   "pygments_lexer": "ipython3",
   "version": "3.6.4"
  }
 },
 "nbformat": 4,
 "nbformat_minor": 2
}
